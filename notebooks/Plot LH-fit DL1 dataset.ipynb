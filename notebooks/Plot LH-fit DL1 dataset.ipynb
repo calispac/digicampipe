{
 "cells": [
  {
   "cell_type": "code",
   "execution_count": 2,
   "metadata": {},
   "outputs": [],
   "source": [
    "from digicampipe.scripts.effective_area import get_fitted\n",
    "from digicampipe.io.dl1 import read_hdf5, read_event_histogram \n",
    "from digicampipe.visualization.machine_learning import LABELS, plot_3d_histo, get_rate_gamma, get_rate_proton, compute_effective_area, crab_spectrum, proton_spectrum\n",
    "from digicampipe.pointing.disp import angular_distance\n",
    "import matplotlib.pyplot as plt\n",
    "from matplotlib.colors import LogNorm\n",
    "import matplotlib\n",
    "import numpy as np\n",
    "import os\n",
    "import pandas as pd\n",
    "figsize=(12, 10)\n",
    "import imp\n",
    "imp.reload(matplotlib)\n",
    "imp.reload(plt)\n",
    "%matplotlib qt"
   ]
  },
  {
   "cell_type": "code",
   "execution_count": 55,
   "metadata": {},
   "outputs": [],
   "source": [
    "def plot_trigger_rate(counts_events, counts_trigger, bins_energy, bins_impact, kind, bins_theta=None, axes=None, **kwargs):\n",
    "    \n",
    "    if axes is None:\n",
    "        fig = plt.figure()\n",
    "        axes = fig.add_subplot(111)\n",
    "\n",
    "    a_eff, bins_x_centers, bin_x_errors = compute_effective_area(counts_events, counts_trigger, bins_energy, bins_impact, bins_theta)\n",
    "\n",
    "    if kind == 'proton':\n",
    "        spectrum = proton_spectrum(10**bins_x_centers)\n",
    "        unit = 'Hz'\n",
    "        \n",
    "    elif kind == 'gamma':\n",
    "        \n",
    "        spectrum = crab_spectrum(10**bins_x_centers)\n",
    "    \n",
    "    rate = spectrum * a_eff\n",
    "    total_rate = np.trapz(rate, 10**bins_x_centers)\n",
    "    \n",
    "    if kind == 'gamma':\n",
    "        \n",
    "        unit = 'mHz'\n",
    "        total_rate *= 1E3\n",
    "        rate *= 1E3\n",
    "    \n",
    "    label = kwargs.pop('label', '') + ', Total rate: {:.2f} [{}]'.format(total_rate, unit) \n",
    "    axes.plot(10**bins_x_centers, rate, label=label, **kwargs)\n",
    "    axes.set_xlabel(LABELS['true_energy'])\n",
    "    axes.set_ylabel('Rate [{}/TeV]'.format(unit))\n",
    "    axes.set_xscale('log')\n",
    "    axes.set_yscale('log')\n",
    "    axes.legend(loc='best')\n",
    "    \n",
    "def plot_effective_area(counts_events, counts_trigger, bins_energy, bins_impact, bins_theta=None, axes=None, limit_energy=(-np.inf, np.inf), **kwargs):\n",
    "\n",
    "    if axes is None:\n",
    "        fig = plt.figure()\n",
    "        axes = fig.add_subplot(111)\n",
    "\n",
    "    a_eff, bins_x_centers, bin_x_errors = compute_effective_area(counts_events, counts_trigger, bins_energy, bins_impact, bins_theta)\n",
    "\n",
    "    if bins_theta is not None:\n",
    "\n",
    "        axes.set_ylabel('Effective area [m$^2\\cdot$ sr]')\n",
    "\n",
    "    else:\n",
    "        axes.set_ylabel('Effective area [m$^2$]')\n",
    "\n",
    "    mask = np.isfinite(a_eff) * (a_eff > 0) \n",
    "    axes.plot(10**bins_x_centers[mask], a_eff[mask], **kwargs)\n",
    "    axes.set_xlabel('$E$ [TeV]')\n",
    "    axes.set_xscale('log')\n",
    "    axes.set_yscale('log')\n",
    "\n",
    "    return axes\n",
    "\n",
    "def make_3d_histogram(df, bins_energy, bins_impact, bins_theta, weighted=False):\n",
    "\n",
    "    energy = np.array(np.log10(df['true_energy']))\n",
    "    impact = np.array(np.sqrt(df['core_x']**2 + df['core_y']**2))\n",
    "    theta = np.array(angular_distance(df['alt'], df['az'], df['tel_alt'], df['tel_az']))\n",
    "    bins = [bins_energy, bins_impact, bins_theta]\n",
    "    if weighted:\n",
    "        weights = df['weights']\n",
    "    else:\n",
    "        weights = None\n",
    "    histo, _ = np.histogramdd([energy, impact, theta], bins=bins, weights=weights)\n",
    "    return histo\n",
    "\n",
    "def quality_cuts(df, intensity_cut=60, leakage_cut=(0.5, 1.5), wol_cut=0.1):\n",
    "\n",
    "    n_events = len(df)\n",
    "    mask = (df['intensity'] >= intensity_cut) & (df['leakage'] <= leakage_cut[1]) & (df['leakage'] >= leakage_cut[0]) # & (df['r'] <= 380)\n",
    "    mask = mask & (df['wol'] > wol_cut)\n",
    "    mask = np.arange(len(df))[mask]\n",
    "    df_out = df.iloc[mask]\n",
    "    with pd.option_context('mode.use_inf_as_null', True): # Drops infinite values\n",
    "        df_out = df_out.dropna()\n",
    "\n",
    "    n_dropped = n_events - len(df_out)\n",
    "    return df_out\n",
    "\n",
    "def get_data(file, max_events=None, intensity_cut=60, leakage_cut=(0.5, 1.5), wol_cut=0.1, kind='fit'):\n",
    "\n",
    "    counts, bins_energy, bins_impact, bins_theta = read_event_histogram(\n",
    "        file)\n",
    "    bins = [bins_energy, bins_impact, bins_theta]\n",
    "    df_triggered, factor = read_hdf5(file, max_events=max_events, kind=kind ,)\n",
    "    counts = counts * factor\n",
    "    counts_triggered = make_3d_histogram(df_triggered, bins_energy,\n",
    "                                               bins_impact, bins_theta, weighted=False)\n",
    "\n",
    "    df_fitted = get_fitted(df_triggered)\n",
    "    counts_fitted = make_3d_histogram(df_fitted, bins_energy, bins_impact, bins_theta, weighted=False)\n",
    "\n",
    "    df_quality = quality_cuts(df_fitted, intensity_cut=intensity_cut, leakage_cut=leakage_cut, wol_cut=wol_cut)\n",
    "\n",
    "    print(\"Sample loaded with {} simulated, {} triggered, {} fitted remaining {} after quality cut\".format(\n",
    "            np.sum(counts), len(df_triggered),\n",
    "            len(df_fitted), len(df_quality)))\n",
    "\n",
    "    return counts, counts_triggered, counts_fitted, df_fitted, df_quality, bins"
   ]
  },
  {
   "cell_type": "code",
   "execution_count": 36,
   "metadata": {},
   "outputs": [],
   "source": [
    "directory = '/sst1m/analyzed/mpeshowerfit/zenith_20/cleaning_10_10/'\n",
    "output_directory = '/home/alispach/figures/sst1m_montecarlo/bis/'\n",
    "gamma_file = os.path.join(directory, 'gamma.hdf5')\n",
    "proton_file = os.path.join(directory, 'proton.hdf5')\n",
    "gamma_diffuse_file = os.path.join(directory, 'gamma_diffuse.hdf5')\n",
    "format_picture = 'png'\n",
    "\n",
    "delta_max = 0.13\n",
    "#directory = '/sst1m/analyzed/mpeshowerfit/lst/dl1/v2/'\n",
    "#output_directory = '/home/alispach/figures/lst_montecarlo/v2_bis/'\n",
    "#gamma_file = os.path.join(directory, 'dl1_gamma_converted.h5')\n",
    "#gamma_diffuse_file = os.path.join(directory, 'dl1_gamma-diffuse_converted.h5')\n",
    "#proton_file = os.path.join(directory, 'dl1_proton_converted.h5')"
   ]
  },
  {
   "cell_type": "code",
   "execution_count": 5,
   "metadata": {},
   "outputs": [],
   "source": [
    "!mkdir -p $output_directory"
   ]
  },
  {
   "cell_type": "code",
   "execution_count": 6,
   "metadata": {},
   "outputs": [
    {
     "name": "stderr",
     "output_type": "stream",
     "text": [
      "/home/alispach/.conda/envs/digicampipe/lib/python3.6/site-packages/pandas/core/indexing.py:189: SettingWithCopyWarning: \n",
      "A value is trying to be set on a copy of a slice from a DataFrame\n",
      "\n",
      "See the caveats in the documentation: http://pandas.pydata.org/pandas-docs/stable/indexing.html#indexing-view-versus-copy\n",
      "  self._setitem_with_indexer(indexer, value)\n"
     ]
    },
    {
     "name": "stdout",
     "output_type": "stream",
     "text": [
      "Sample loaded with 97363984.0 simulated, 888131 triggered, 462831 fitted remaining 446726 after quality cut\n"
     ]
    },
    {
     "name": "stderr",
     "output_type": "stream",
     "text": [
      "/home/alispach/.conda/envs/digicampipe/lib/python3.6/site-packages/pandas/core/indexing.py:189: SettingWithCopyWarning: \n",
      "A value is trying to be set on a copy of a slice from a DataFrame\n",
      "\n",
      "See the caveats in the documentation: http://pandas.pydata.org/pandas-docs/stable/indexing.html#indexing-view-versus-copy\n",
      "  self._setitem_with_indexer(indexer, value)\n"
     ]
    },
    {
     "name": "stdout",
     "output_type": "stream",
     "text": [
      "Sample loaded with 390844013.0 simulated, 1464721 triggered, 883554 fitted remaining 802193 after quality cut\n"
     ]
    },
    {
     "name": "stderr",
     "output_type": "stream",
     "text": [
      "/home/alispach/.conda/envs/digicampipe/lib/python3.6/site-packages/pandas/core/indexing.py:189: SettingWithCopyWarning: \n",
      "A value is trying to be set on a copy of a slice from a DataFrame\n",
      "\n",
      "See the caveats in the documentation: http://pandas.pydata.org/pandas-docs/stable/indexing.html#indexing-view-versus-copy\n",
      "  self._setitem_with_indexer(indexer, value)\n"
     ]
    },
    {
     "name": "stdout",
     "output_type": "stream",
     "text": [
      "Sample loaded with 443424151.0 simulated, 1134577 triggered, 669509 fitted remaining 603904 after quality cut\n"
     ]
    }
   ],
   "source": [
    "counts_gamma, counts_gamma_triggered, counts_gamma_fitted, df_gamma_fitted, df_gamma_quality, bins_simu = get_data(gamma_file)\n",
    "counts_gamma_diffuse, counts_gamma_diffuse_triggered, counts_gamma_diffuse_fitted, df_gamma_diffuse_fitted, df_gamma_diffuse_quality, _ = get_data(gamma_diffuse_file)\n",
    "counts_proton, counts_proton_triggered, counts_proton_fitted, df_proton_fitted, df_proton_quality, _ = get_data(proton_file)"
   ]
  },
  {
   "cell_type": "code",
   "execution_count": 7,
   "metadata": {},
   "outputs": [
    {
     "name": "stderr",
     "output_type": "stream",
     "text": [
      "/home/alispach/.conda/envs/digicampipe/lib/python3.6/site-packages/ipykernel_launcher.py:4: RuntimeWarning: divide by zero encountered in true_divide\n",
      "  after removing the cwd from sys.path.\n",
      "/home/alispach/.conda/envs/digicampipe/lib/python3.6/site-packages/ipykernel_launcher.py:8: RuntimeWarning: divide by zero encountered in true_divide\n",
      "  \n"
     ]
    }
   ],
   "source": [
    "rate_gamma = get_rate_gamma(bins_energy=bins_simu[0], bins_impact=bins_simu[1])\n",
    "rate_proton = get_rate_proton(bins_energy=bins_simu[0], bins_impact=bins_simu[1], bins_theta=bins_simu[2])\n",
    "rates = [rate_gamma, rate_proton]\n",
    "weights_gamma = rate_gamma / counts_gamma.sum(axis=-1)\n",
    "mask = np.isfinite(weights_gamma)\n",
    "weights_gamma[~mask] = 0\n",
    "# print(rate_proton.shape)\n",
    "weights_proton = rate_proton / counts_proton\n",
    "mask = np.isfinite(weights_proton)\n",
    "weights_proton[~mask] = 0\n",
    "weights = [weights_gamma, weights_proton]\n",
    "dfs = [df_gamma_fitted, df_proton_fitted, df_gamma_diffuse_fitted]\n",
    "counts = [counts_gamma, counts_proton, counts_gamma_diffuse]\n",
    "counts_triggered = [counts_gamma_triggered, counts_proton_triggered, counts_gamma_diffuse_triggered]\n",
    "labels = ['On-axis $\\gamma$', 'Diffuse $p$', 'Diffuse $\\gamma$']\n",
    "names = ['gamma', 'proton', 'diffuse_gamma']"
   ]
  },
  {
   "cell_type": "markdown",
   "metadata": {},
   "source": [
    "# Simulated events"
   ]
  },
  {
   "cell_type": "code",
   "execution_count": 37,
   "metadata": {},
   "outputs": [],
   "source": [
    "for i, count in enumerate(counts):\n",
    "    \n",
    "    c_max = max(count.sum(axis=0).max(), count.sum(axis=1).max(), count.sum(axis=2).max())\n",
    "    c_max = 10**np.ceil(np.log10(c_max))\n",
    "    c_min = 1\n",
    "    axes = plot_3d_histo(count, bins=bins_simu, figsize=figsize, vmin=c_min, vmax=c_max)\n",
    "    axes.set_xlabel(LABELS['log_energy'])\n",
    "    axes.set_ylabel(LABELS['impact'])\n",
    "    axes.set_xlim(bins_simu[0].min(), bins_simu[0].max())\n",
    "    axes.set_ylim(bins_simu[1].min(), bins_simu[1].max())\n",
    "    axes.set_title(labels[i])\n",
    "    #if i > 0:\n",
    "    #    axes.collections[-1].colorbar.remove()\n",
    "\n",
    "        \n",
    "    axes.get_figure().savefig(os.path.join(output_directory, 'simulated_counts_energy_vs_impact_{}.{}'.format(names[i], format_picture)))\n",
    "\n",
    "    axes = plot_3d_histo(count, bins=bins_simu, figsize=figsize, axis=-2, vmin=c_min, vmax=c_max)\n",
    "    axes.set_xlabel(LABELS['log_energy'])\n",
    "    axes.set_ylabel(LABELS['delta'])\n",
    "    # axes.set_xlim(np.log10(0.5), None)\n",
    "    \n",
    "    axes.set_xlim(bins_simu[0].min(), bins_simu[0].max())\n",
    "    axes.set_ylim(bins_simu[2].min(), bins_simu[2].max())\n",
    "    axes.set_title(labels[i])\n",
    "    # axes.collections[-1].colorbar.remove()\n",
    "    axes.set_ylim(0, delta_max)\n",
    "\n",
    "    axes.get_figure().savefig(os.path.join(output_directory, 'simulated_counts_energy_vs_delta_{}.{}'.format(names[i], format_picture)))\n",
    "\n",
    "\n",
    "    axes = plot_3d_histo(count, bins=bins_simu, figsize=figsize, axis=-3, vmin=c_min, vmax=c_max)\n",
    "    axes.set_xlabel(LABELS['impact'])\n",
    "    axes.set_ylabel(LABELS['delta'])\n",
    "    axes.set_title(labels[i])\n",
    "    axes.set_xlim(bins_simu[1].min(), bins_simu[1].max())\n",
    "    axes.set_ylim(bins_simu[2].min(), bins_simu[2].max())\n",
    "    axes.set_ylim(0, delta_max)\n",
    "    axes.get_figure().savefig(os.path.join(output_directory, 'simulated_counts_impact_vs_delta_{}.{}'.format(names[i], format_picture)))"
   ]
  },
  {
   "cell_type": "code",
   "execution_count": 38,
   "metadata": {},
   "outputs": [],
   "source": [
    "for i, count in enumerate(weights):\n",
    "\n",
    "    label = 'Weights [Hz]'\n",
    "    \n",
    "    count_0 = count.sum(axis=0)\n",
    "    count_1 = count.sum(axis=1)\n",
    "        \n",
    "    c_max = max(count.sum(axis=0).max(), count.sum(axis=1).max())\n",
    "    c_min = min(count_0[np.nonzero(count_0)].min(), count_1[np.nonzero(count_1)].min())\n",
    "\n",
    "    if len(count.shape) > 2:\n",
    "        count_2 = count.sum(axis=2)\n",
    "        c_max = max(c_max, count_2.max())\n",
    "        c_min = min(c_min, count_2[np.nonzero(count_2)].min())\n",
    "    \n",
    "    c_max = 10**np.ceil(np.log10(c_max))\n",
    "    c_min = 10**np.floor(np.log10(c_min))\n",
    "    \n",
    "    axes = plot_3d_histo(count, bins=bins_simu, figsize=figsize, label=label, vmin=c_min, vmax=c_max)\n",
    "    axes.set_xlabel(LABELS['log_energy'])\n",
    "    axes.set_ylabel(LABELS['impact'])\n",
    "    # axes.set_xlim(np.log10(0.5), None)\n",
    "    axes.set_title(labels[i])\n",
    "    axes.get_figure().savefig(os.path.join(output_directory, 'weigths_energy_vs_impact_{}.{}'.format(names[i], format_picture)))\n",
    "    \n",
    "    if i > 0:\n",
    "    \n",
    "        axes = plot_3d_histo(count, bins=bins_simu, figsize=figsize, axis=-2,label=label, vmin=c_min, vmax=c_max)\n",
    "        axes.set_xlabel(LABELS['log_energy'])\n",
    "        axes.set_ylabel(LABELS['delta'])\n",
    "        # axes.set_xlim(np.log10(0.5), None)\n",
    "        axes.set_ylim(0, delta_max)\n",
    "        axes.set_title(labels[i])\n",
    "        axes.get_figure().savefig(os.path.join(output_directory, 'weigths_energy_vs_delta_{}.{}'.format(names[i], format_picture)))\n",
    "\n",
    "\n",
    "        axes = plot_3d_histo(count, bins=bins_simu, figsize=figsize, axis=-3, label=label, vmin=c_min, vmax=c_max)\n",
    "        axes.set_xlabel(LABELS['impact'])\n",
    "        axes.set_ylabel(LABELS['delta'])\n",
    "        axes.set_ylim(0, delta_max)\n",
    "        axes.set_title(labels[i])\n",
    "        axes.get_figure().savefig(os.path.join(output_directory, 'weights_impact_vs_delta_{}.{}'.format(names[i], format_picture)))"
   ]
  },
  {
   "cell_type": "markdown",
   "metadata": {},
   "source": [
    "# Trigger counts"
   ]
  },
  {
   "cell_type": "code",
   "execution_count": 39,
   "metadata": {},
   "outputs": [
    {
     "name": "stderr",
     "output_type": "stream",
     "text": [
      "/home/alispach/.conda/envs/digicampipe/lib/python3.6/site-packages/ipykernel_launcher.py:3: RuntimeWarning: invalid value encountered in true_divide\n",
      "  This is separate from the ipykernel package so we can avoid doing imports until\n",
      "/home/alispach/.conda/envs/digicampipe/lib/python3.6/site-packages/ipykernel_launcher.py:4: RuntimeWarning: invalid value encountered in true_divide\n",
      "  after removing the cwd from sys.path.\n",
      "/home/alispach/.conda/envs/digicampipe/lib/python3.6/site-packages/ipykernel_launcher.py:10: RuntimeWarning: invalid value encountered in true_divide\n",
      "  # Remove the CWD from sys.path while we load stuff.\n"
     ]
    },
    {
     "name": "stdout",
     "output_type": "stream",
     "text": [
      "1e-07 1\n",
      "1e-06 1\n",
      "1e-07 1\n"
     ]
    }
   ],
   "source": [
    "for i, count in enumerate([counts_gamma_triggered, counts_proton_triggered, counts_gamma_diffuse_triggered]):\n",
    "\n",
    "    count_0 = count.sum(axis=0) / counts[i].sum(axis=0)\n",
    "    count_1 = count.sum(axis=1) / counts[i].sum(axis=1)\n",
    "        \n",
    "    c_max = max(np.nanmax(count_0), np.nanmax(count_0))\n",
    "    c_min = min(np.nanmin(count_0[np.nonzero(count_0)]), np.nanmin(count_1[np.nonzero(count_1)]))\n",
    "\n",
    "    if len(count.shape) > 2:\n",
    "        count_2 = count.sum(axis=2) / counts[i].sum(axis=2)\n",
    "        c_max = max(c_max, np.nanmax(count_2))\n",
    "        c_min = min(c_min, np.nanmin(count_2[np.nonzero(count_2)]))\n",
    "    \n",
    "    c_max = 10**np.ceil(np.log10(c_max))\n",
    "    c_min = 10**np.floor(np.log10(c_min))\n",
    "\n",
    "    c_max = 1\n",
    "    print(c_min, c_max)\n",
    "    \n",
    "    label = 'Trigger probability []'\n",
    "    axes = plot_3d_histo(count, counts_2=counts[i], bins=bins_simu, figsize=figsize, label=label, vmin=c_min, vmax=c_max)\n",
    "    axes.set_xlabel(LABELS['log_energy'])\n",
    "    axes.set_ylabel(LABELS['impact'])\n",
    "    axes.set_title(labels[i])\n",
    "    axes.get_figure().savefig(os.path.join(output_directory, 'triggered_probability_energy_vs_impact_{}.{}'.format(names[i], format_picture)))\n",
    "    \n",
    "    if i > 0:\n",
    "    \n",
    "        axes = plot_3d_histo(count, counts_2=counts[i], bins=bins_simu, figsize=figsize, axis=-2, label=label, vmin=c_min, vmax=c_max)\n",
    "        axes.set_xlabel(LABELS['log_energy'])\n",
    "        axes.set_ylabel(LABELS['delta'])\n",
    "        # axes.set_xlim(np.log10(0.5), None)\n",
    "        axes.set_title(labels[i])\n",
    "        axes.set_ylim(0, delta_max)\n",
    "        axes.get_figure().savefig(os.path.join(output_directory, 'triggered_probability_energy_vs_delta_{}.{}'.format(names[i], format_picture)))\n",
    "\n",
    "\n",
    "        axes = plot_3d_histo(count, counts_2=counts[i], bins=bins_simu, figsize=figsize, axis=-3, label=label, vmin=c_min, vmax=c_max)\n",
    "        axes.set_xlabel(LABELS['impact'])\n",
    "        axes.set_ylabel(LABELS['delta'])\n",
    "        axes.set_title(labels[i])\n",
    "        axes.set_ylim(0, delta_max)\n",
    "\n",
    "        axes.get_figure().savefig(os.path.join(output_directory, 'triggered_probability_impact_vs_delta_{}.{}'.format(names[i], format_picture)))"
   ]
  },
  {
   "cell_type": "markdown",
   "metadata": {},
   "source": [
    "# Fit probability"
   ]
  },
  {
   "cell_type": "code",
   "execution_count": 40,
   "metadata": {},
   "outputs": [
    {
     "name": "stderr",
     "output_type": "stream",
     "text": [
      "/home/alispach/.conda/envs/digicampipe/lib/python3.6/site-packages/ipykernel_launcher.py:3: RuntimeWarning: invalid value encountered in true_divide\n",
      "  This is separate from the ipykernel package so we can avoid doing imports until\n",
      "/home/alispach/.conda/envs/digicampipe/lib/python3.6/site-packages/ipykernel_launcher.py:4: RuntimeWarning: invalid value encountered in true_divide\n",
      "  after removing the cwd from sys.path.\n",
      "/home/alispach/.conda/envs/digicampipe/lib/python3.6/site-packages/ipykernel_launcher.py:10: RuntimeWarning: invalid value encountered in true_divide\n",
      "  # Remove the CWD from sys.path while we load stuff.\n",
      "/home/alispach/Documents/PhD/ctasoft/digicampipe/digicampipe/visualization/machine_learning.py:629: RuntimeWarning: invalid value encountered in true_divide\n",
      "  data = data_1 / data_2\n"
     ]
    },
    {
     "name": "stdout",
     "output_type": "stream",
     "text": [
      "1e-07 1\n",
      "1e-07 1\n",
      "1e-07 1\n"
     ]
    }
   ],
   "source": [
    "for i, count in enumerate([counts_gamma_fitted, counts_proton_fitted, counts_gamma_diffuse_fitted]):\n",
    "\n",
    "    count_0 = count.sum(axis=0) / counts[i].sum(axis=0)\n",
    "    count_1 = count.sum(axis=1) / counts[i].sum(axis=1)\n",
    "        \n",
    "    c_max = max(np.nanmax(count_0), np.nanmax(count_0))\n",
    "    c_min = min(np.nanmin(count_0[np.nonzero(count_0)]), np.nanmin(count_1[np.nonzero(count_1)]))\n",
    "\n",
    "    if len(count.shape) > 2:\n",
    "        count_2 = count.sum(axis=2) / counts[i].sum(axis=2)\n",
    "        c_max = max(c_max, np.nanmax(count_2))\n",
    "        c_min = min(c_min, np.nanmin(count_2[np.nonzero(count_2)]))\n",
    "    \n",
    "    c_max = 10**np.ceil(np.log10(c_max))\n",
    "    c_min = 10**np.floor(np.log10(c_min))\n",
    "\n",
    "    c_max = 1\n",
    "    print(c_min, c_max)\n",
    "    \n",
    "    label = 'Fit probability []'\n",
    "    axes = plot_3d_histo(count, counts_2=counts[i], bins=bins_simu, figsize=figsize, label=label, vmin=c_min, vmax=c_max)\n",
    "    axes.set_xlabel(LABELS['log_energy'])\n",
    "    axes.set_ylabel(LABELS['impact'])\n",
    "    # axes.set_xlim(np.log10(0.5), None)\n",
    "    axes.set_title(labels[i])\n",
    "    axes.get_figure().savefig(os.path.join(output_directory, 'fitted_probability_energy_vs_impact_{}.{}'.format(names[i], format_picture)))\n",
    "    \n",
    "    \n",
    "    if i > 0:\n",
    "        axes = plot_3d_histo(count, counts_2=counts[i], bins=bins_simu, figsize=figsize, axis=-2, label=label, vmin=c_min, vmax=c_max)\n",
    "        axes.set_xlabel(LABELS['log_energy'])\n",
    "        axes.set_ylabel(LABELS['delta'])\n",
    "        # axes.set_xlim(np.log10(0.5), None)\n",
    "        axes.set_ylim(0, delta_max)\n",
    "        axes.set_title(labels[i])\n",
    "        axes.get_figure().savefig(os.path.join(output_directory, 'fitted_probability_energy_vs_delta_{}.{}'.format(names[i], format_picture)))\n",
    "\n",
    "\n",
    "        axes = plot_3d_histo(count, counts_2=counts[i], bins=bins_simu, figsize=figsize, axis=-3, label=label, vmin=c_min, vmax=c_max)\n",
    "        axes.set_xlabel(LABELS['impact'])\n",
    "        axes.set_ylabel(LABELS['delta'])\n",
    "        axes.set_ylim(0, delta_max)\n",
    "        axes.set_title(labels[i])\n",
    "        axes.get_figure().savefig(os.path.join(output_directory, 'fitted_probability_impact_vs_delta_{}.{}'.format(names[i], format_picture)))"
   ]
  },
  {
   "cell_type": "markdown",
   "metadata": {},
   "source": [
    "# Quality cut probability"
   ]
  },
  {
   "cell_type": "code",
   "execution_count": 41,
   "metadata": {
    "scrolled": true
   },
   "outputs": [],
   "source": [
    "options = {'histtype': 'step', 'lw':3, 'density': True}\n",
    "plt.figure(figsize=figsize)\n",
    "bins = np.logspace(0, 6, num=100)\n",
    "size_cut = 60\n",
    "wol_cut = 0.1\n",
    "leakage_min, leakage_max = 0.5, 1.5\n",
    "for i, df in enumerate(dfs):\n",
    "    plt.hist(df['intensity'], bins=bins, label=labels[i], **options)\n",
    "plt.axvline(size_cut, label='Lower cut', linestyle='--', color='k')\n",
    "plt.yscale('log')\n",
    "plt.xscale('log')\n",
    "plt.xlabel('Size [p.e.]')\n",
    "plt.ylabel('Normalized counts []')\n",
    "plt.legend(loc='best')\n",
    "plt.savefig(os.path.join(output_directory, 'size_distribution_triggered.{}'.format(format_picture)))\n",
    "\n",
    "plt.figure(figsize=figsize)\n",
    "bins = np.linspace(0, 1, num=100)\n",
    "for i, df in enumerate(dfs):\n",
    "    plt.hist(df['wol'], bins=bins, label=labels[i], **options)\n",
    "plt.axvline(wol_cut, label='Lower cut', linestyle='--', color='k')\n",
    "\n",
    "plt.yscale('log')\n",
    "plt.xlabel('Width over length []')\n",
    "plt.ylabel('Normalized counts []')\n",
    "plt.legend(loc='best')\n",
    "plt.savefig(os.path.join(output_directory, 'wol_distribution_triggered.{}'.format(format_picture)))\n",
    "\n",
    "\n",
    "plt.figure(figsize=figsize)\n",
    "bins = np.linspace(0, 5, num=100)\n",
    "for i, df in enumerate(dfs):\n",
    "    plt.hist(df['leakage'], bins=bins, label=labels[i], **options)\n",
    "plt.axvline(leakage_min, label='Lower cut', linestyle='--', color='k')\n",
    "plt.axvline(leakage_max, label='Upper cut', linestyle='-.', color='k')\n",
    "\n",
    "plt.yscale('log')\n",
    "plt.xlabel('Containment []')\n",
    "plt.ylabel('Normalized counts []')\n",
    "plt.legend(loc='best')\n",
    "plt.savefig(os.path.join(output_directory, 'containement_distribution_triggered.{}'.format(format_picture)))"
   ]
  },
  {
   "cell_type": "code",
   "execution_count": 16,
   "metadata": {},
   "outputs": [
    {
     "name": "stderr",
     "output_type": "stream",
     "text": [
      "WARNING:matplotlib.legend:No handles with labels found to put in legend.\n",
      "WARNING:matplotlib.legend:No handles with labels found to put in legend.\n",
      "WARNING:matplotlib.legend:No handles with labels found to put in legend.\n",
      "WARNING:matplotlib.legend:No handles with labels found to put in legend.\n",
      "WARNING:matplotlib.legend:No handles with labels found to put in legend.\n",
      "WARNING:matplotlib.legend:No handles with labels found to put in legend.\n",
      "WARNING:matplotlib.legend:No handles with labels found to put in legend.\n",
      "WARNING:matplotlib.legend:No handles with labels found to put in legend.\n",
      "WARNING:matplotlib.legend:No handles with labels found to put in legend.\n",
      "WARNING:matplotlib.legend:No handles with labels found to put in legend.\n",
      "WARNING:matplotlib.legend:No handles with labels found to put in legend.\n",
      "/home/alispach/.conda/envs/digicampipe/lib/python3.6/site-packages/matplotlib/pyplot.py:514: RuntimeWarning: More than 20 figures have been opened. Figures created through the pyplot interface (`matplotlib.pyplot.figure`) are retained until explicitly closed and may consume too much memory. (To control this warning, see the rcParam `figure.max_open_warning`).\n",
      "  max_open_warning, RuntimeWarning)\n",
      "WARNING:matplotlib.legend:No handles with labels found to put in legend.\n"
     ]
    }
   ],
   "source": [
    "\n",
    "for i, label in enumerate(labels):\n",
    "\n",
    "    bins_x = np.linspace(0, 5, num=100)\n",
    "    plt.figure(figsize=figsize)\n",
    "    bins_y = np.linspace(0, 1, num=100)\n",
    "    plt.title(label)\n",
    "    plt.hist2d(dfs[i]['leakage'], dfs[i]['wol'], bins=[bins_x, bins_y], norm=LogNorm())\n",
    "    plt.xlabel('Containment []')\n",
    "    plt.ylabel('Width over length []')\n",
    "    plt.colorbar(label='Counts []')\n",
    "    plt.legend(loc='best')\n",
    "    plt.savefig(os.path.join(output_directory, 'containement_vs_wol_distribution_triggered_{}.{}'.format(names[i], format_picture)))\n",
    "    \n",
    "    plt.figure(figsize=figsize)\n",
    "    bins_y = np.linspace(0, 1000, num=100)\n",
    "    plt.title(label)\n",
    "    plt.hist2d(dfs[i]['leakage'], dfs[i]['r'], bins=[bins_x, bins_y], norm=LogNorm())\n",
    "    plt.xlabel('Containment []')\n",
    "    plt.ylabel('$r_{CM}$ [mm]')\n",
    "    plt.colorbar(label='Counts []')\n",
    "    plt.legend(loc='best')\n",
    "    plt.savefig(os.path.join(output_directory, 'containement_vs_r_distribution_triggered_{}.{}'.format(names[i], format_picture)))\n",
    "    \n",
    "    \n",
    "    plt.figure(figsize=figsize)\n",
    "    plt.title(label)\n",
    "    bins = np.logspace(0, 6, num=100)\n",
    "    bins_y = np.linspace(0, 1, num=100)\n",
    "    plt.hist2d(dfs[i]['intensity'], dfs[i]['wol'], bins=[bins, bins_y], norm=LogNorm())\n",
    "    plt.xlabel('Size [p.e.]')\n",
    "    plt.xscale('log')\n",
    "    plt.ylabel('width over length []')\n",
    "    plt.colorbar(label='Counts []')\n",
    "    plt.legend(loc='best')\n",
    "    plt.savefig(os.path.join(output_directory, 'intensity_vs_wol_distribution_triggered_{}.{}'.format(names[i], format_picture)))\n",
    "    \n",
    "    plt.figure(figsize=figsize)\n",
    "    bins = np.logspace(0, 6, num=100)\n",
    "    bins_y = np.linspace(0, 5, num=100)\n",
    "\n",
    "    plt.title(label)\n",
    "    plt.hist2d(dfs[i]['intensity'], dfs[i]['leakage'], bins=[bins, bins_y], norm=LogNorm())\n",
    "    plt.ylabel('Containment []')\n",
    "    plt.xlabel('Size [p.e.]')\n",
    "    plt.xscale('log')\n",
    "    plt.colorbar(label='Counts []')\n",
    "    plt.legend(loc='best')\n",
    "    plt.savefig(os.path.join(output_directory, 'intensity_vs_containement_distribution_triggered_{}.pdf'.format(names[i])))\n",
    " "
   ]
  },
  {
   "cell_type": "code",
   "execution_count": 42,
   "metadata": {
    "scrolled": true
   },
   "outputs": [],
   "source": [
    "counts_gamma_quality_cut, _ = np.histogramdd([np.log10(df_gamma_quality['true_energy']), df_gamma_quality['impact'], df_gamma_quality['delta']], bins=bins_simu)\n",
    "counts_proton_quality_cut, _ = np.histogramdd([np.log10(df_proton_quality['true_energy']), df_proton_quality['impact'], df_proton_quality['delta']], bins=bins_simu)\n",
    "counts_gamma_diffuse_quality_cut, _ = np.histogramdd([np.log10(df_gamma_diffuse_quality['true_energy']), df_gamma_diffuse_quality['impact'], df_gamma_diffuse_quality['delta']], bins=bins_simu)\n",
    "counts_fitted = [counts_gamma_fitted, counts_proton_fitted, counts_gamma_diffuse_fitted]\n",
    "counts_quality = [counts_gamma_quality_cut, counts_proton_quality_cut, counts_gamma_diffuse_quality_cut]"
   ]
  },
  {
   "cell_type": "code",
   "execution_count": 43,
   "metadata": {},
   "outputs": [
    {
     "name": "stderr",
     "output_type": "stream",
     "text": [
      "/home/alispach/.conda/envs/digicampipe/lib/python3.6/site-packages/ipykernel_launcher.py:3: RuntimeWarning: invalid value encountered in true_divide\n",
      "  This is separate from the ipykernel package so we can avoid doing imports until\n",
      "/home/alispach/.conda/envs/digicampipe/lib/python3.6/site-packages/ipykernel_launcher.py:4: RuntimeWarning: invalid value encountered in true_divide\n",
      "  after removing the cwd from sys.path.\n",
      "/home/alispach/.conda/envs/digicampipe/lib/python3.6/site-packages/ipykernel_launcher.py:10: RuntimeWarning: invalid value encountered in true_divide\n",
      "  # Remove the CWD from sys.path while we load stuff.\n",
      "/home/alispach/Documents/PhD/ctasoft/digicampipe/digicampipe/visualization/machine_learning.py:629: RuntimeWarning: invalid value encountered in true_divide\n",
      "  data = data_1 / data_2\n"
     ]
    },
    {
     "name": "stdout",
     "output_type": "stream",
     "text": [
      "1e-07 1\n",
      "1e-07 1\n",
      "1e-07 1\n"
     ]
    }
   ],
   "source": [
    "for i, count in enumerate([counts_gamma_quality_cut, counts_proton_quality_cut, counts_gamma_diffuse_quality_cut]):\n",
    "\n",
    "    count_0 = count.sum(axis=0) / counts[i].sum(axis=0)\n",
    "    count_1 = count.sum(axis=1) / counts[i].sum(axis=1)\n",
    "        \n",
    "    c_max = max(np.nanmax(count_0), np.nanmax(count_0))\n",
    "    c_min = min(np.nanmin(count_0[np.nonzero(count_0)]), np.nanmin(count_1[np.nonzero(count_1)]))\n",
    "\n",
    "    if len(count.shape) > 2:\n",
    "        count_2 = count.sum(axis=2) / counts[i].sum(axis=2)\n",
    "        c_max = max(c_max, np.nanmax(count_2))\n",
    "        c_min = min(c_min, np.nanmin(count_2[np.nonzero(count_2)]))\n",
    "    \n",
    "    c_max = 10**np.ceil(np.log10(c_max))\n",
    "    c_min = 10**np.floor(np.log10(c_min))\n",
    "\n",
    "    c_max = 1\n",
    "    print(c_min, c_max)\n",
    "    \n",
    "    label = 'Survival probability []'\n",
    "    axes = plot_3d_histo(count, counts_2=counts[i], bins=bins_simu, figsize=figsize, label=label, vmin=c_min, vmax=c_max)\n",
    "    axes.set_xlabel(LABELS['log_energy'])\n",
    "    axes.set_ylabel(LABELS['impact'])\n",
    "    # axes.set_xlim(np.log10(0.5), None)\n",
    "    axes.set_title(labels[i])\n",
    "    axes.get_figure().savefig(os.path.join(output_directory, 'quality_cut_probability_energy_vs_impact_{}.{}'.format(names[i], format_picture)))\n",
    "    \n",
    "    \n",
    "    if i > 0:\n",
    "        axes = plot_3d_histo(count, counts_2=counts[i], bins=bins_simu, figsize=figsize, axis=-2, label=label, vmin=c_min, vmax=c_max)\n",
    "        axes.set_xlabel(LABELS['log_energy'])\n",
    "        axes.set_ylabel(LABELS['delta'])\n",
    "        # axes.set_xlim(np.log10(0.5), None)\n",
    "        axes.set_ylim(0, delta_max)\n",
    "        axes.set_title(labels[i])\n",
    "        axes.get_figure().savefig(os.path.join(output_directory, 'quality_cut_probability_energy_vs_delta_{}.{}'.format(names[i], format_picture)))\n",
    "\n",
    "\n",
    "        axes = plot_3d_histo(count, counts_2=counts[i], bins=bins_simu, figsize=figsize, axis=-3, label=label, vmin=c_min, vmax=c_max)\n",
    "        axes.set_xlabel(LABELS['impact'])\n",
    "        axes.set_ylabel(LABELS['delta'])\n",
    "        axes.set_ylim(0, delta_max)\n",
    "        axes.set_title(labels[i])\n",
    "        axes.get_figure().savefig(os.path.join(output_directory, 'quality_cut_probability_impact_vs_delta_{}.{}'.format(names[i], format_picture)))"
   ]
  },
  {
   "cell_type": "markdown",
   "metadata": {},
   "source": [
    "# Effective areas"
   ]
  },
  {
   "cell_type": "code",
   "execution_count": 56,
   "metadata": {},
   "outputs": [
    {
     "name": "stderr",
     "output_type": "stream",
     "text": [
      "/home/alispach/Documents/PhD/ctasoft/digicampipe/digicampipe/visualization/machine_learning.py:667: RuntimeWarning: invalid value encountered in true_divide\n",
      "  prob = counts_trigger / counts_events\n",
      "/home/alispach/Documents/PhD/ctasoft/digicampipe/digicampipe/visualization/machine_learning.py:667: RuntimeWarning: divide by zero encountered in true_divide\n",
      "  prob = counts_trigger / counts_events\n"
     ]
    }
   ],
   "source": [
    "colors = plt.rcParams['axes.prop_cycle'].by_key()['color']\n",
    "\n",
    "for i, count in enumerate(counts):\n",
    "\n",
    "    fig = plt.figure(figsize=figsize)\n",
    "    axes = fig.add_subplot(111)\n",
    "    axes.set_title(labels[i])\n",
    "    options = {'color': colors[i], 'marker': None}\n",
    "    bins_theta = bins_simu[2] if i > 0 else None\n",
    "    plot_effective_area(count, counts_triggered[i],\n",
    "                                   bins_energy=bins_simu[0],\n",
    "                                   bins_impact=bins_simu[1],\n",
    "                                    bins_theta=bins_theta,\n",
    "                                   label='Triggered', axes=axes,\n",
    "                                    linestyle='-.',\n",
    "                                    **options)\n",
    "    \n",
    "    plot_effective_area(count, counts_fitted[i],\n",
    "                                   bins_energy=bins_simu[0],\n",
    "                                   bins_impact=bins_simu[1],\n",
    "                                                            bins_theta=bins_theta,\n",
    "\n",
    "                                   label='Fitted', axes=axes,\n",
    "                                    linestyle='--',\n",
    "                       **options)\n",
    "\n",
    "\n",
    "    plot_effective_area(count, counts_quality[i],\n",
    "                                   bins_energy=bins_simu[0],\n",
    "                                   bins_impact=bins_simu[1],\n",
    "                                                            bins_theta=bins_theta,\n",
    "\n",
    "                                   label='Cleaned data', axes=axes , linestyle='-', **options)\n",
    "\n",
    "    axes.set_xlabel('$E$ [TeV]')\n",
    "    axes.legend(loc='best')\n",
    "    axes.set_ylim(1, 1E7)\n",
    "    axes.set_xlim(10**bins_simu[0].min(), 10**bins_simu[0].max())\n",
    "    fig.savefig(os.path.join(output_directory, 'effective_area_{}.{}'.format(names[i], format_picture)))\n",
    "    \n",
    "    if i < 2:\n",
    "\n",
    "        fig = plt.figure(figsize=figsize)\n",
    "        axes = fig.add_subplot(111)\n",
    "        axes.set_title(labels[i])\n",
    "        options = {'color': colors[i], 'marker': None}\n",
    "        bins_theta = bins_simu[2] if i > 0 else None\n",
    "    \n",
    "    \n",
    "        plot_trigger_rate(count, counts_triggered[i],\n",
    "                                       bins_energy=bins_simu[0],\n",
    "                                       bins_impact=bins_simu[1],\n",
    "                                        bins_theta=bins_theta,\n",
    "                                       label='Triggered', axes=axes,\n",
    "                                        linestyle='-.', kind=names[i],\n",
    "                                        **options)\n",
    "\n",
    "        plot_trigger_rate(count, counts_fitted[i],\n",
    "                                       bins_energy=bins_simu[0],\n",
    "                                       bins_impact=bins_simu[1],\n",
    "                                                                bins_theta=bins_theta,\n",
    "\n",
    "                                       label='Fitted', axes=axes,\n",
    "                                        linestyle='--', kind=names[i],\n",
    "                           **options)\n",
    "\n",
    "\n",
    "        plot_trigger_rate(count, counts_quality[i],\n",
    "                                       bins_energy=bins_simu[0],\n",
    "                                       bins_impact=bins_simu[1],\n",
    "                                                                bins_theta=bins_theta,\n",
    "\n",
    "                                       label='Cleaned data', axes=axes , linestyle='-', kind=names[i], **options)\n",
    "\n",
    "        axes.set_ylim(1E-7, 1E1)\n",
    "        axes.set_xlim(10**bins_simu[0].min(), 10**bins_simu[0].max())\n",
    "        fig.savefig(os.path.join(output_directory, 'trigger_rate_vs_energy_{}.{}'.format(names[i], format_picture)))"
   ]
  },
  {
   "cell_type": "markdown",
   "metadata": {},
   "source": [
    "# Image parameters distribution after quality cuts"
   ]
  },
  {
   "cell_type": "code",
   "execution_count": 51,
   "metadata": {},
   "outputs": [
    {
     "name": "stdout",
     "output_type": "stream",
     "text": [
      "1e-07 0.01\n",
      "1e-06 0.01\n"
     ]
    },
    {
     "name": "stderr",
     "output_type": "stream",
     "text": [
      "/home/alispach/.conda/envs/digicampipe/lib/python3.6/site-packages/ipykernel_launcher.py:33: RuntimeWarning: divide by zero encountered in log10\n",
      "/home/alispach/.conda/envs/digicampipe/lib/python3.6/site-packages/ipykernel_launcher.py:36: UserWarning: Attempted to set non-positive bottom ylim on a log-scaled axis.\n",
      "Invalid limit will be ignored.\n"
     ]
    },
    {
     "name": "stdout",
     "output_type": "stream",
     "text": [
      "0.0 1.0\n",
      "0.0 10.0\n",
      "0.01 10.0\n",
      "1e-06 0.1\n",
      "0.1 1.0\n",
      "0.1 1.0\n",
      "0.0 1.0\n",
      "0.0 0.1\n",
      "0.001 100.0\n",
      "0.0 0.001\n"
     ]
    }
   ],
   "source": [
    "image_parameters = ['y', 'x', 't_68', 'intensity', 'wol', 'r', 'phi', 'psi', 'width', 'length', 'alpha', 'area']\n",
    "for param in image_parameters:\n",
    "    \n",
    "    fig = plt.figure(figsize=figsize)\n",
    "    axes = fig.add_subplot(111)\n",
    "    axes.set_yscale('log')\n",
    "    axes.yaxis.set_major_formatter(matplotlib.ticker.LogFormatterMathtext(labelOnlyBase=True,))\n",
    "    \n",
    "    bins = 100\n",
    "    h_max = 0\n",
    "    h_min = np.inf\n",
    "    for i, df in enumerate([df_gamma_quality, df_proton_quality, df_gamma_diffuse_quality]):\n",
    "        \n",
    "        x = df[param]\n",
    "        label_x = LABELS[param]\n",
    "\n",
    "        if param == 't_68':\n",
    "            bins = np.linspace(0, 200, num=400)\n",
    "        if param == 'phi':\n",
    "            x = np.arctan2(df['y'], df['x'])\n",
    "        if param == 'intensity':\n",
    "            x = np.log10(x)\n",
    "            label_x = r'$\\log_{10} \\left( \\frac{\\mu}{p.e.} \\right)$'\n",
    "                \n",
    "        H = axes.hist(x, bins=bins, density=True, label=labels[i], lw=2, histtype='step')\n",
    "        bins = H[1]\n",
    "        h_max = max(H[0].max(), h_max)\n",
    "        h_min = min(H[0].min(), h_min)\n",
    "    axes.set_xlabel(label_x)\n",
    "    axes.set_ylabel('Normalized counts []')\n",
    "    axes.legend(loc='best')\n",
    "\n",
    "    h_min = 10**np.floor(np.log10(h_min))\n",
    "    h_max = 10**np.ceil(np.log10(h_max))\n",
    "    print(h_min, h_max)\n",
    "    axes.set_ylim(h_min, h_max)\n",
    "    fig.savefig(os.path.join(output_directory,'histogram_{}_all_particle_after_quality_cuts.{}'.format(param, format_picture)))"
   ]
  },
  {
   "cell_type": "code",
   "execution_count": null,
   "metadata": {},
   "outputs": [],
   "source": [
    "import importlib\n",
    "importlib.reload(matplotlib)\n",
    "matplotlib.rcParams\n",
    "%matplotlib inline\n",
    "# matplotlib.matplotlib_fname()"
   ]
  },
  {
   "cell_type": "code",
   "execution_count": 57,
   "metadata": {},
   "outputs": [],
   "source": [
    "plt.figure(figsize=figsize)\n",
    "bins_alpha = np.linspace(0, np.pi/2, num=100)\n",
    "plt.title(labels[0])\n",
    "plt.hist2d(df_gamma_quality['alpha'], df_gamma_quality['wol'], bins=(bins_alpha, np.linspace(0, 1, num=100)), norm=LogNorm())\n",
    "plt.xlabel(LABELS['alpha'])\n",
    "plt.ylabel(LABELS['wol'])\n",
    "plt.colorbar(label='count []')\n",
    "plt.savefig(os.path.join(output_directory, 'alpha_vs_wol_gamma_quality_cuts.{}'.format(format_picture)))\n",
    "plt.figure(figsize=figsize)\n",
    "plt.title(labels[0])\n",
    "H=plt.hist2d(df_gamma_quality['alpha'], df_gamma_quality['t_68'], bins=[bins_alpha, np.linspace(0, 30, num=100)], norm=LogNorm())\n",
    "plt.xlabel(LABELS['alpha'])\n",
    "plt.ylabel(LABELS['t_68'])\n",
    "plt.colorbar(label='count []')\n",
    "plt.savefig(os.path.join(output_directory, 'alpha_vs_t_68_gamma_quality_cuts.{}'.format(format_picture)))"
   ]
  },
  {
   "cell_type": "code",
   "execution_count": null,
   "metadata": {},
   "outputs": [],
   "source": [
    "df_gamma_diffuse_fitted.columns\n"
   ]
  },
  {
   "cell_type": "code",
   "execution_count": null,
   "metadata": {},
   "outputs": [],
   "source": []
  }
 ],
 "metadata": {
  "kernelspec": {
   "display_name": "Python 3",
   "language": "python",
   "name": "python3"
  },
  "language_info": {
   "codemirror_mode": {
    "name": "ipython",
    "version": 3
   },
   "file_extension": ".py",
   "mimetype": "text/x-python",
   "name": "python",
   "nbconvert_exporter": "python",
   "pygments_lexer": "ipython3",
   "version": "3.6.6"
  }
 },
 "nbformat": 4,
 "nbformat_minor": 2
}
