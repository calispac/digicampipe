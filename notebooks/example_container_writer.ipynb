{
 "cells": [
  {
   "cell_type": "code",
   "execution_count": 1,
   "metadata": {
    "collapsed": true
   },
   "outputs": [],
   "source": [
    "from ctapipe.io import HDF5TableWriter\n",
    "from ctapipe.core import Container, Field\n",
    "import numpy as np\n",
    "import datetime"
   ]
  },
  {
   "cell_type": "code",
   "execution_count": 2,
   "metadata": {
    "collapsed": false
   },
   "outputs": [],
   "source": [
    "class VariousTypesContainer(Container):\n",
    "    \n",
    "    a_int = Field(int, 'int')\n",
    "    a_float = Field(float, 'float')\n",
    "    a_bool = Field(bool, 'bool')\n",
    "    a_str = Field(str, 'str')\n",
    "    a_np_int = Field(np.int, 'np.int')\n",
    "    a_np_float = Field(np.float, 'np.float')\n",
    "    a_np_bool = Field(np.bool, 'np.bool')\n",
    "    a_datetime = Field(datetime.datetime, 'datetime')\n",
    "    "
   ]
  },
  {
   "cell_type": "code",
   "execution_count": 3,
   "metadata": {
    "collapsed": true
   },
   "outputs": [],
   "source": [
    "def create_stream(n_event):\n",
    "    \n",
    "    data = VariousTypesContainer()\n",
    "    for i in range(n_event):\n",
    "        \n",
    "        data.a_int = int(i)\n",
    "        data.a_float = float(i)\n",
    "        data.a_bool = (i % 2) == 0\n",
    "        data.a_str = str(i)\n",
    "        data.a_np_int = np.int(i)\n",
    "        data.a_np_float = np.float(i)\n",
    "        data.a_np_bool = np.bool((i % 2) == 0)\n",
    "        data.a_datetime = datetime.datetime.now()\n",
    "        \n",
    "        yield data"
   ]
  },
  {
   "cell_type": "code",
   "execution_count": 4,
   "metadata": {
    "collapsed": false
   },
   "outputs": [
    {
     "name": "stdout",
     "output_type": "stream",
     "text": [
      "a_int: 0, type : <class 'int'>\n",
      "a_bool: True, type : <class 'bool'>\n",
      "a_float: 0.0, type : <class 'float'>\n",
      "a_np_int: 0, type : <class 'int'>\n",
      "a_str: 0, type : <class 'str'>\n",
      "a_np_float: 0.0, type : <class 'float'>\n",
      "a_np_bool: True, type : <class 'bool'>\n",
      "a_datetime: 2018-03-08 14:26:26.518394, type : <class 'datetime.datetime'>\n",
      "a_int: 1, type : <class 'int'>\n",
      "a_bool: False, type : <class 'bool'>\n",
      "a_float: 1.0, type : <class 'float'>\n",
      "a_np_int: 1, type : <class 'int'>\n",
      "a_str: 1, type : <class 'str'>\n",
      "a_np_float: 1.0, type : <class 'float'>\n",
      "a_np_bool: False, type : <class 'bool'>\n",
      "a_datetime: 2018-03-08 14:26:26.519270, type : <class 'datetime.datetime'>\n"
     ]
    }
   ],
   "source": [
    "for data in create_stream(2):\n",
    "        \n",
    "    for key, val in data.items():\n",
    "        \n",
    "        print('{}: {}, type : {}'.format(key, val, type(val)))"
   ]
  },
  {
   "cell_type": "markdown",
   "metadata": {},
   "source": [
    "It seems that the Container accepts all types\n",
    "# Writing the Data"
   ]
  },
  {
   "cell_type": "code",
   "execution_count": 5,
   "metadata": {
    "collapsed": false
   },
   "outputs": [],
   "source": [
    "# del(h5_table) # this is needed...\n",
    "\n",
    "h5_table = HDF5TableWriter('container.h5', group_name='data')\n",
    "\n",
    "for data in create_stream(10):\n",
    "    \n",
    "    h5_table.write('table', data)\n",
    "\n",
    "del(h5_table)\n"
   ]
  },
  {
   "cell_type": "code",
   "execution_count": 6,
   "metadata": {
    "collapsed": false
   },
   "outputs": [
    {
     "name": "stdout",
     "output_type": "stream",
     "text": [
      "container.h5\r\n"
     ]
    }
   ],
   "source": [
    "!ls container.h5"
   ]
  },
  {
   "cell_type": "markdown",
   "metadata": {},
   "source": [
    "# Reading the Data"
   ]
  },
  {
   "cell_type": "code",
   "execution_count": 7,
   "metadata": {
    "collapsed": false
   },
   "outputs": [
    {
     "name": "stderr",
     "output_type": "stream",
     "text": [
      "WARNING:HDF5TableReader:Table '/data/table' is missing column 'a_str' that is in container VariousTypesContainer. It will be skipped\n",
      "WARNING:HDF5TableReader:Table '/data/table' is missing column 'a_datetime' that is in container VariousTypesContainer. It will be skipped\n"
     ]
    },
    {
     "name": "stdout",
     "output_type": "stream",
     "text": [
      "{'a_int': 0, 'a_bool': True, 'a_float': 0.0, 'a_np_int': 0, 'a_str': <class 'str'>, 'a_np_float': 0.0, 'a_np_bool': True, 'a_datetime': <class 'datetime.datetime'>}\n",
      "{'a_int': 1, 'a_bool': False, 'a_float': 1.0, 'a_np_int': 1, 'a_str': <class 'str'>, 'a_np_float': 1.0, 'a_np_bool': False, 'a_datetime': <class 'datetime.datetime'>}\n",
      "{'a_int': 2, 'a_bool': True, 'a_float': 2.0, 'a_np_int': 2, 'a_str': <class 'str'>, 'a_np_float': 2.0, 'a_np_bool': True, 'a_datetime': <class 'datetime.datetime'>}\n",
      "{'a_int': 3, 'a_bool': False, 'a_float': 3.0, 'a_np_int': 3, 'a_str': <class 'str'>, 'a_np_float': 3.0, 'a_np_bool': False, 'a_datetime': <class 'datetime.datetime'>}\n",
      "{'a_int': 4, 'a_bool': True, 'a_float': 4.0, 'a_np_int': 4, 'a_str': <class 'str'>, 'a_np_float': 4.0, 'a_np_bool': True, 'a_datetime': <class 'datetime.datetime'>}\n",
      "{'a_int': 5, 'a_bool': False, 'a_float': 5.0, 'a_np_int': 5, 'a_str': <class 'str'>, 'a_np_float': 5.0, 'a_np_bool': False, 'a_datetime': <class 'datetime.datetime'>}\n",
      "{'a_int': 6, 'a_bool': True, 'a_float': 6.0, 'a_np_int': 6, 'a_str': <class 'str'>, 'a_np_float': 6.0, 'a_np_bool': True, 'a_datetime': <class 'datetime.datetime'>}\n",
      "{'a_int': 7, 'a_bool': False, 'a_float': 7.0, 'a_np_int': 7, 'a_str': <class 'str'>, 'a_np_float': 7.0, 'a_np_bool': False, 'a_datetime': <class 'datetime.datetime'>}\n",
      "{'a_int': 8, 'a_bool': True, 'a_float': 8.0, 'a_np_int': 8, 'a_str': <class 'str'>, 'a_np_float': 8.0, 'a_np_bool': True, 'a_datetime': <class 'datetime.datetime'>}\n",
      "{'a_int': 9, 'a_bool': False, 'a_float': 9.0, 'a_np_int': 9, 'a_str': <class 'str'>, 'a_np_float': 9.0, 'a_np_bool': False, 'a_datetime': <class 'datetime.datetime'>}\n"
     ]
    }
   ],
   "source": [
    "from ctapipe.io import HDF5TableReader\n",
    "\n",
    "h5_table = HDF5TableReader('container.h5')\n",
    "\n",
    "for data in h5_table.read('/data/table', VariousTypesContainer()):\n",
    "    \n",
    "    print(data.as_dict())\n",
    "del(h5_table)\n"
   ]
  },
  {
   "cell_type": "markdown",
   "metadata": {
    "collapsed": true
   },
   "source": [
    "So it seems that datetime and str types where ignored by the writer. Nice that I get a warning from the reader but I think it should come from the writer?"
   ]
  },
  {
   "cell_type": "code",
   "execution_count": null,
   "metadata": {
    "collapsed": true
   },
   "outputs": [],
   "source": []
  }
 ],
 "metadata": {
  "kernelspec": {
   "display_name": "Python [conda env:ctapipe]",
   "language": "python",
   "name": "conda-env-ctapipe-py"
  },
  "language_info": {
   "codemirror_mode": {
    "name": "ipython",
    "version": 3
   },
   "file_extension": ".py",
   "mimetype": "text/x-python",
   "name": "python",
   "nbconvert_exporter": "python",
   "pygments_lexer": "ipython3",
   "version": "3.5.3"
  }
 },
 "nbformat": 4,
 "nbformat_minor": 0
}
