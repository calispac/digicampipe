{
 "cells": [
  {
   "cell_type": "code",
   "execution_count": 1,
   "metadata": {},
   "outputs": [
    {
     "name": "stderr",
     "output_type": "stream",
     "text": [
      "/home/dneise/anaconda3/lib/python3.6/site-packages/h5py/__init__.py:36: FutureWarning: Conversion of the second argument of issubdtype from `float` to `np.floating` is deprecated. In future, it will be treated as `np.float64 == np.dtype(float).type`.\n",
      "  from ._conv import register_converters as _register_converters\n"
     ]
    }
   ],
   "source": [
    "from pkg_resources import resource_filename\n",
    "import os\n",
    "import warnings\n",
    "import numpy as np\n",
    "\n",
    "from cts_core.camera import Camera\n",
    "from digicampipe.utils import geometry\n",
    "from digicampipe.io.event_stream import event_stream, add_slow_data\n",
    "\n",
    "example_file_path = resource_filename(\n",
    "    'digicampipe',\n",
    "    os.path.join(\n",
    "        'tests',\n",
    "        'resources',\n",
    "        'example_100_evts.000.fits.fz'\n",
    "    )\n",
    ")\n",
    "\n",
    "digicam_config_file = resource_filename(\n",
    "    'digicampipe',\n",
    "    os.path.join(\n",
    "        'tests',\n",
    "        'resources',\n",
    "        'camera_config.cfg'\n",
    "    )\n",
    ")\n",
    "\n",
    "aux_basepath = resource_filename('digicampipe', 'tests/resources/')\n",
    "\n",
    "\n",
    "digicam = Camera(_config_file=digicam_config_file)\n",
    "digicam_geometry = geometry.generate_geometry_from_camera(camera=digicam)\n",
    "\n",
    "\n",
    "\n",
    "data_stream = event_stream(\n",
    "    file_list=[example_file_path],\n",
    "    camera_geometry=digicam_geometry,\n",
    "    camera=digicam,\n",
    "    max_events=100\n",
    ")\n",
    "data_stream = add_slow_data(data_stream, basepath=aux_basepath)\n",
    "for event in data_stream:\n",
    "    pass"
   ]
  },
  {
   "cell_type": "code",
   "execution_count": 2,
   "metadata": {},
   "outputs": [
    {
     "data": {
      "text/plain": [
       "digicampipe.io.containers.DataContainer:\n",
       "                          r0.*: Raw Data\n",
       "                          r1.*: Raw Common Data\n",
       "                         dl0.*: DL0 Data Volume Reduced Data\n",
       "                         dl1.*: DL1 Calibrated image\n",
       "                         dl2.*: Reconstructed Shower Information\n",
       "                        inst.*: Instrumental information\n",
       "                     slow_data: Slow Data Information"
      ]
     },
     "execution_count": 2,
     "metadata": {},
     "output_type": "execute_result"
    }
   ],
   "source": [
    "event"
   ]
  },
  {
   "cell_type": "code",
   "execution_count": 3,
   "metadata": {
    "collapsed": true,
    "scrolled": true
   },
   "outputs": [],
   "source": [
    "# I do not show this, it is VERY long and ugly\n",
    "# event.slow_data"
   ]
  },
  {
   "cell_type": "code",
   "execution_count": 4,
   "metadata": {},
   "outputs": [
    {
     "data": {
      "text/plain": [
       "('DigicamSlowControl',\n",
       " 'MasterSST1M',\n",
       " 'PDPSlowControl',\n",
       " 'SafetyPLC',\n",
       " 'DriveSystem')"
      ]
     },
     "execution_count": 4,
     "metadata": {},
     "output_type": "execute_result"
    }
   ],
   "source": [
    "# slow_data return a `collections.namedtuple` at the moment\n",
    "# namedtuples tell you their fields with: `._fields`  (yes, it should be keys(), but I did not write it.)\n",
    "event.slow_data._fields"
   ]
  },
  {
   "cell_type": "code",
   "execution_count": 5,
   "metadata": {
    "collapsed": true
   },
   "outputs": [],
   "source": [
    "# each field of `slow_control` at the moment is also a namedtuple namedtuple\n",
    "# I do not show this, it is long and ugly\n",
    "# event.slow_data.DigicamSlowControl"
   ]
  },
  {
   "cell_type": "code",
   "execution_count": 6,
   "metadata": {},
   "outputs": [
    {
     "data": {
      "text/plain": [
       "('timestamp',\n",
       " 'Crate1_timestamps',\n",
       " 'Crate3_T',\n",
       " 'Crates',\n",
       " 'Crate2_T',\n",
       " 'cstSwitches',\n",
       " 'appStatus',\n",
       " 'Crate1_status',\n",
       " 'FadcResync',\n",
       " 'Crate2_timestamps',\n",
       " 'Crate1_T',\n",
       " 'AbsoluteTime',\n",
       " 'trigger_status',\n",
       " 'Crate3_status',\n",
       " 'FadcOffset',\n",
       " 'triggerParameters',\n",
       " 'opcuaTime',\n",
       " 'triggerSwitches',\n",
       " 'Crate2_status',\n",
       " 'cstParameters',\n",
       " 'Crate3_timestamps',\n",
       " 'LocalTime',\n",
       " 'trigger_timestamp',\n",
       " 'triggerStatus')"
      ]
     },
     "execution_count": 6,
     "metadata": {},
     "output_type": "execute_result"
    }
   ],
   "source": [
    "event.slow_data.DigicamSlowControl._fields"
   ]
  },
  {
   "cell_type": "code",
   "execution_count": 7,
   "metadata": {},
   "outputs": [
    {
     "data": {
      "text/plain": [
       "0"
      ]
     },
     "execution_count": 7,
     "metadata": {},
     "output_type": "execute_result"
    }
   ],
   "source": [
    "event.slow_data.DigicamSlowControl.trigger_status"
   ]
  },
  {
   "cell_type": "code",
   "execution_count": 8,
   "metadata": {
    "collapsed": true
   },
   "outputs": [],
   "source": [
    "# I do not show this, it is long and ugly\n",
    "# event.slow_data.DriveSystem"
   ]
  },
  {
   "cell_type": "code",
   "execution_count": 9,
   "metadata": {},
   "outputs": [
    {
     "data": {
      "text/plain": [
       "('timestamp',\n",
       " 'operation_aborted_error_description',\n",
       " 'no_permission_error_description',\n",
       " 'system_is_busy_error_rev',\n",
       " 'current_track_step_pos_el',\n",
       " 'has_id',\n",
       " 'operation_stopped_error_rev',\n",
       " 'invalid_operation_error_ec',\n",
       " 'recent_error_rev',\n",
       " 'is_moving',\n",
       " 'in__v_rel',\n",
       " 'in__track_step_pos_el',\n",
       " 'has_remote_mode_requested',\n",
       " 'has_firmware_release',\n",
       " 'current_track_step_pos_az',\n",
       " 'is_tracking',\n",
       " 'current_track_step_t',\n",
       " 'is_in_park_position',\n",
       " 'is_in_parking_zone',\n",
       " 'is_on_source',\n",
       " 'in__track_step_pos_az',\n",
       " 'system_is_busy_error_crit_time',\n",
       " 'operation_stopped_error_ec',\n",
       " 'invalid_operation_error_crit_time',\n",
       " 'current_max_velocity_el',\n",
       " 'current_max_velocity_az',\n",
       " 'operation_aborted_error_crit_time',\n",
       " 'current_position_el',\n",
       " 'capacity_exceeded_error_ec',\n",
       " 'invalid_operation_error_rev',\n",
       " 'system_is_busy_error_ec',\n",
       " 'invalid_operation_error_description',\n",
       " 'current_nominal_position_az',\n",
       " 'capacity_exceeded_error_rev',\n",
       " 'operation_stopped_error_description',\n",
       " 'current_time',\n",
       " 'in__position_az',\n",
       " 'no_permission_error_ec',\n",
       " 'capacity_exceeded_error_description',\n",
       " 'current_position_az',\n",
       " 'invalid_argument_error_description',\n",
       " 'has_cache_capacity',\n",
       " 'in__position_el',\n",
       " 'operation_stopped_error_crit_time',\n",
       " 'in__t_after',\n",
       " 'current_cache_size',\n",
       " 'current_nominal_position_el',\n",
       " 'invalid_argument_error_rev',\n",
       " 'capacity_exceeded_error_crit_time',\n",
       " 'no_permission_error_crit_time',\n",
       " 'is_in_start_position',\n",
       " 'invalid_argument_error_ec',\n",
       " 'in__track_step_t',\n",
       " 'operation_aborted_error_ec',\n",
       " 'operation_aborted_error_rev',\n",
       " 'system_is_busy_error_description',\n",
       " 'invalid_argument_error_crit_time',\n",
       " 'no_permission_error_rev',\n",
       " 'recent_error_name',\n",
       " 'current_velocity_el',\n",
       " 'is_off',\n",
       " 'has_local_mode_requested',\n",
       " 'current_velocity_az')"
      ]
     },
     "execution_count": 9,
     "metadata": {},
     "output_type": "execute_result"
    }
   ],
   "source": [
    "event.slow_data.DriveSystem._fields"
   ]
  },
  {
   "cell_type": "code",
   "execution_count": 10,
   "metadata": {},
   "outputs": [
    {
     "data": {
      "text/plain": [
       "1509415494066"
      ]
     },
     "execution_count": 10,
     "metadata": {},
     "output_type": "execute_result"
    }
   ],
   "source": [
    "event.slow_data.DriveSystem.current_time"
   ]
  },
  {
   "cell_type": "code",
   "execution_count": 11,
   "metadata": {},
   "outputs": [
    {
     "data": {
      "text/plain": [
       "-166.022"
      ]
     },
     "execution_count": 11,
     "metadata": {},
     "output_type": "execute_result"
    }
   ],
   "source": [
    "event.slow_data.DriveSystem.current_position_az"
   ]
  },
  {
   "cell_type": "code",
   "execution_count": 12,
   "metadata": {},
   "outputs": [
    {
     "data": {
      "text/plain": [
       "61.696793"
      ]
     },
     "execution_count": 12,
     "metadata": {},
     "output_type": "execute_result"
    }
   ],
   "source": [
    "event.slow_data.DriveSystem.current_position_el"
   ]
  },
  {
   "cell_type": "markdown",
   "metadata": {},
   "source": [
    "# How to look at the lid_status\n",
    "\n",
    "The lid_status is contained in the least significant 4bits of this integer"
   ]
  },
  {
   "cell_type": "code",
   "execution_count": 13,
   "metadata": {},
   "outputs": [
    {
     "data": {
      "text/plain": [
       "59574"
      ]
     },
     "execution_count": 13,
     "metadata": {},
     "output_type": "execute_result"
    }
   ],
   "source": [
    "event.slow_data.SafetyPLC.SPLC_CAM_Status"
   ]
  },
  {
   "cell_type": "code",
   "execution_count": 14,
   "metadata": {
    "collapsed": true
   },
   "outputs": [],
   "source": [
    "from enum import Enum, IntEnum, auto    \n",
    "class LidStatus(Enum):\n",
    "    # TODO: check the Enum docu, if this repetition of auto() can be avoided...\n",
    "    Undefined = auto()\n",
    "    Closed = auto()\n",
    "    D2_starting = auto()\n",
    "    D1_opening = auto()\n",
    "    D1_opened = auto()\n",
    "    D2_opening = auto()\n",
    "    Opened = auto()\n",
    "    D1_starting = auto()\n",
    "    D2_closing = auto()\n",
    "    D2_closed = auto()\n",
    "    D1_closing = auto()\n",
    "    OVC_error = auto()\n",
    "    OVC_error_reseting = auto()\n",
    "    Timeout_error = auto()\n",
    "    \n",
    "    @classmethod\n",
    "    def from_CAM_Status(cls, status):\n",
    "        # LidStatus is encoded in the 4 least significant bits of\n",
    "        # the SafetyPLC.SPLC_CAM_Status\n",
    "        return cls(status & 0xF)\n"
   ]
  },
  {
   "cell_type": "code",
   "execution_count": 15,
   "metadata": {},
   "outputs": [
    {
     "data": {
      "text/plain": [
       "<LidStatus.D2_opening: 6>"
      ]
     },
     "execution_count": 15,
     "metadata": {},
     "output_type": "execute_result"
    }
   ],
   "source": [
    "LidStatus.from_CAM_Status(event.slow_data.SafetyPLC.SPLC_CAM_Status)"
   ]
  },
  {
   "cell_type": "markdown",
   "metadata": {},
   "source": [
    "So inside a \"processor\" which wants to skip all events where the Lid is not Opened the code would read like this:"
   ]
  },
  {
   "cell_type": "code",
   "execution_count": 16,
   "metadata": {
    "collapsed": true
   },
   "outputs": [],
   "source": [
    "for event in data_stream:\n",
    "    lid_status = LidStatus.from_CAM_Status(event.slow_data.SafetyPLC.SPLC_CAM_Status)\n",
    "    if lid_status is not LidStatus.Opened:\n",
    "        continue\n",
    "    else:\n",
    "        # Lid is open, so we can analyze\n",
    "        pass"
   ]
  }
 ],
 "metadata": {
  "kernelspec": {
   "display_name": "Python 3",
   "language": "python",
   "name": "python3"
  },
  "language_info": {
   "codemirror_mode": {
    "name": "ipython",
    "version": 3
   },
   "file_extension": ".py",
   "mimetype": "text/x-python",
   "name": "python",
   "nbconvert_exporter": "python",
   "pygments_lexer": "ipython3",
   "version": "3.6.3"
  }
 },
 "nbformat": 4,
 "nbformat_minor": 2
}
