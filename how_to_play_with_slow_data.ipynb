{
 "cells": [
  {
   "cell_type": "code",
   "execution_count": 1,
   "metadata": {},
   "outputs": [
    {
     "name": "stderr",
     "output_type": "stream",
     "text": [
      "/home/dneise/anaconda3/lib/python3.6/site-packages/h5py/__init__.py:36: FutureWarning: Conversion of the second argument of issubdtype from `float` to `np.floating` is deprecated. In future, it will be treated as `np.float64 == np.dtype(float).type`.\n",
      "  from ._conv import register_converters as _register_converters\n"
     ]
    }
   ],
   "source": [
    "from pkg_resources import resource_filename\n",
    "import os\n",
    "import warnings\n",
    "import numpy as np\n",
    "\n",
    "from cts_core.camera import Camera\n",
    "from digicampipe.utils import geometry\n",
    "from digicampipe.io.event_stream import event_stream, add_slow_data\n",
    "\n",
    "example_file_path = resource_filename(\n",
    "    'digicampipe',\n",
    "    os.path.join(\n",
    "        'tests',\n",
    "        'resources',\n",
    "        'example_100_evts.000.fits.fz'\n",
    "    )\n",
    ")\n",
    "\n",
    "digicam_config_file = resource_filename(\n",
    "    'digicampipe',\n",
    "    os.path.join(\n",
    "        'tests',\n",
    "        'resources',\n",
    "        'camera_config.cfg'\n",
    "    )\n",
    ")\n",
    "\n",
    "aux_basepath = resource_filename('digicampipe', 'tests/resources/')\n",
    "\n",
    "\n",
    "digicam = Camera(_config_file=digicam_config_file)\n",
    "digicam_geometry = geometry.generate_geometry_from_camera(camera=digicam)\n",
    "\n",
    "\n",
    "\n",
    "data_stream = event_stream(\n",
    "    file_list=[example_file_path],\n",
    "    camera_geometry=digicam_geometry,\n",
    "    camera=digicam,\n",
    "    max_events=100\n",
    ")\n",
    "data_stream = add_slow_data(data_stream, basepath=aux_basepath)\n",
    "for event in data_stream:\n",
    "    pass"
   ]
  },
  {
   "cell_type": "code",
   "execution_count": 2,
   "metadata": {},
   "outputs": [
    {
     "data": {
      "text/plain": [
       "digicampipe.io.containers.DataContainer:\n",
       "                          r0.*: Raw Data\n",
       "                          r1.*: Raw Common Data\n",
       "                         dl0.*: DL0 Data Volume Reduced Data\n",
       "                         dl1.*: DL1 Calibrated image\n",
       "                         dl2.*: Reconstructed Shower Information\n",
       "                        inst.*: Instrumental information\n",
       "                     slow_data: Slow Data Information"
      ]
     },
     "execution_count": 2,
     "metadata": {},
     "output_type": "execute_result"
    }
   ],
   "source": [
    "event"
   ]
  },
  {
   "cell_type": "code",
   "execution_count": 3,
   "metadata": {
    "scrolled": true
   },
   "outputs": [],
   "source": [
    "# I do not show this, it is VERY long and ugly\n",
    "# event.slow_data"
   ]
  },
  {
   "cell_type": "code",
   "execution_count": 4,
   "metadata": {},
   "outputs": [
    {
     "data": {
      "text/plain": [
       "('DigicamSlowControl',\n",
       " 'MasterSST1M',\n",
       " 'PDPSlowControl',\n",
       " 'SafetyPLC',\n",
       " 'DriveSystem')"
      ]
     },
     "execution_count": 4,
     "metadata": {},
     "output_type": "execute_result"
    }
   ],
   "source": [
    "# slow_data return a `collections.namedtuple` at the moment\n",
    "# namedtuples tell you their fields with: `._fields`  (yes, it should be keys(), but I did not write it.)\n",
    "event.slow_data._fields"
   ]
  },
  {
   "cell_type": "code",
   "execution_count": 5,
   "metadata": {},
   "outputs": [],
   "source": [
    "# each field of `slow_control` at the moment is also a namedtuple namedtuple\n",
    "# I do not show this, it is long and ugly\n",
    "# event.slow_data.DigicamSlowControl"
   ]
  },
  {
   "cell_type": "code",
   "execution_count": 6,
   "metadata": {},
   "outputs": [
    {
     "data": {
      "text/plain": [
       "('timestamp',\n",
       " 'Crate1_timestamps',\n",
       " 'Crate3_T',\n",
       " 'Crates',\n",
       " 'Crate2_T',\n",
       " 'cstSwitches',\n",
       " 'appStatus',\n",
       " 'Crate1_status',\n",
       " 'FadcResync',\n",
       " 'Crate2_timestamps',\n",
       " 'Crate1_T',\n",
       " 'AbsoluteTime',\n",
       " 'trigger_status',\n",
       " 'Crate3_status',\n",
       " 'FadcOffset',\n",
       " 'triggerParameters',\n",
       " 'opcuaTime',\n",
       " 'triggerSwitches',\n",
       " 'Crate2_status',\n",
       " 'cstParameters',\n",
       " 'Crate3_timestamps',\n",
       " 'LocalTime',\n",
       " 'trigger_timestamp',\n",
       " 'triggerStatus')"
      ]
     },
     "execution_count": 6,
     "metadata": {},
     "output_type": "execute_result"
    }
   ],
   "source": [
    "event.slow_data.DigicamSlowControl._fields"
   ]
  },
  {
   "cell_type": "code",
   "execution_count": 7,
   "metadata": {},
   "outputs": [
    {
     "data": {
      "text/plain": [
       "0"
      ]
     },
     "execution_count": 7,
     "metadata": {},
     "output_type": "execute_result"
    }
   ],
   "source": [
    "event.slow_data.DigicamSlowControl.trigger_status"
   ]
  },
  {
   "cell_type": "code",
   "execution_count": 8,
   "metadata": {},
   "outputs": [],
   "source": [
    "# I do not show this, it is long and ugly\n",
    "# event.slow_data.DriveSystem"
   ]
  },
  {
   "cell_type": "code",
   "execution_count": 9,
   "metadata": {},
   "outputs": [
    {
     "data": {
      "text/plain": [
       "('timestamp',\n",
       " 'operation_aborted_error_description',\n",
       " 'no_permission_error_description',\n",
       " 'system_is_busy_error_rev',\n",
       " 'current_track_step_pos_el',\n",
       " 'has_id',\n",
       " 'operation_stopped_error_rev',\n",
       " 'invalid_operation_error_ec',\n",
       " 'recent_error_rev',\n",
       " 'is_moving',\n",
       " 'in__v_rel',\n",
       " 'in__track_step_pos_el',\n",
       " 'has_remote_mode_requested',\n",
       " 'has_firmware_release',\n",
       " 'current_track_step_pos_az',\n",
       " 'is_tracking',\n",
       " 'current_track_step_t',\n",
       " 'is_in_park_position',\n",
       " 'is_in_parking_zone',\n",
       " 'is_on_source',\n",
       " 'in__track_step_pos_az',\n",
       " 'system_is_busy_error_crit_time',\n",
       " 'operation_stopped_error_ec',\n",
       " 'invalid_operation_error_crit_time',\n",
       " 'current_max_velocity_el',\n",
       " 'current_max_velocity_az',\n",
       " 'operation_aborted_error_crit_time',\n",
       " 'current_position_el',\n",
       " 'capacity_exceeded_error_ec',\n",
       " 'invalid_operation_error_rev',\n",
       " 'system_is_busy_error_ec',\n",
       " 'invalid_operation_error_description',\n",
       " 'current_nominal_position_az',\n",
       " 'capacity_exceeded_error_rev',\n",
       " 'operation_stopped_error_description',\n",
       " 'current_time',\n",
       " 'in__position_az',\n",
       " 'no_permission_error_ec',\n",
       " 'capacity_exceeded_error_description',\n",
       " 'current_position_az',\n",
       " 'invalid_argument_error_description',\n",
       " 'has_cache_capacity',\n",
       " 'in__position_el',\n",
       " 'operation_stopped_error_crit_time',\n",
       " 'in__t_after',\n",
       " 'current_cache_size',\n",
       " 'current_nominal_position_el',\n",
       " 'invalid_argument_error_rev',\n",
       " 'capacity_exceeded_error_crit_time',\n",
       " 'no_permission_error_crit_time',\n",
       " 'is_in_start_position',\n",
       " 'invalid_argument_error_ec',\n",
       " 'in__track_step_t',\n",
       " 'operation_aborted_error_ec',\n",
       " 'operation_aborted_error_rev',\n",
       " 'system_is_busy_error_description',\n",
       " 'invalid_argument_error_crit_time',\n",
       " 'no_permission_error_rev',\n",
       " 'recent_error_name',\n",
       " 'current_velocity_el',\n",
       " 'is_off',\n",
       " 'has_local_mode_requested',\n",
       " 'current_velocity_az')"
      ]
     },
     "execution_count": 9,
     "metadata": {},
     "output_type": "execute_result"
    }
   ],
   "source": [
    "event.slow_data.DriveSystem._fields"
   ]
  },
  {
   "cell_type": "code",
   "execution_count": 10,
   "metadata": {},
   "outputs": [
    {
     "data": {
      "text/plain": [
       "1509415494066"
      ]
     },
     "execution_count": 10,
     "metadata": {},
     "output_type": "execute_result"
    }
   ],
   "source": [
    "event.slow_data.DriveSystem.current_time"
   ]
  },
  {
   "cell_type": "code",
   "execution_count": 11,
   "metadata": {},
   "outputs": [
    {
     "data": {
      "text/plain": [
       "-166.022"
      ]
     },
     "execution_count": 11,
     "metadata": {},
     "output_type": "execute_result"
    }
   ],
   "source": [
    "event.slow_data.DriveSystem.current_position_az"
   ]
  },
  {
   "cell_type": "code",
   "execution_count": 12,
   "metadata": {},
   "outputs": [
    {
     "data": {
      "text/plain": [
       "61.696793"
      ]
     },
     "execution_count": 12,
     "metadata": {},
     "output_type": "execute_result"
    }
   ],
   "source": [
    "event.slow_data.DriveSystem.current_position_el"
   ]
  },
  {
   "cell_type": "markdown",
   "metadata": {},
   "source": [
    "# How does it look for multiple files?"
   ]
  },
  {
   "cell_type": "code",
   "execution_count": 13,
   "metadata": {
    "collapsed": true
   },
   "outputs": [],
   "source": [
    "data_stream = event_stream(\n",
    "    file_list=[example_file_path],\n",
    "    camera_geometry=digicam_geometry,\n",
    "    camera=digicam,\n",
    "    max_events=100\n",
    ")\n",
    "data_stream = add_slow_data(data_stream, basepath=aux_basepath)\n",
    "events = [e for e in data_stream]"
   ]
  },
  {
   "cell_type": "code",
   "execution_count": 14,
   "metadata": {},
   "outputs": [
    {
     "data": {
      "text/plain": [
       "100"
      ]
     },
     "execution_count": 14,
     "metadata": {},
     "output_type": "execute_result"
    }
   ],
   "source": [
    "len(events)"
   ]
  },
  {
   "cell_type": "code",
   "execution_count": 15,
   "metadata": {
    "collapsed": true
   },
   "outputs": [],
   "source": [
    "import matplotlib.pyplot as plt\n",
    "%matplotlib inline"
   ]
  },
  {
   "cell_type": "code",
   "execution_count": 16,
   "metadata": {},
   "outputs": [
    {
     "data": {
      "image/png": "[encoded data removed]",
      "text/plain": [
       "<matplotlib.figure.Figure at 0x7f1413d4dd68>"
      ]
     },
     "metadata": {},
     "output_type": "display_data"
    }
   ],
   "source": [
    "# events is a normal python list, so something like:\n",
    "#     events.DriveSystem.current_position_az\n",
    "# obviously cannot work.\n",
    "plt.plot(\n",
    "    [e.r0.tel[1].local_camera_clock for e in events],\n",
    "    [e.slow_data.DriveSystem.current_position_az for e in events],\n",
    "    '.:',\n",
    ")\n",
    "plt.xlabel('local_camera_clock')\n",
    "plt.ylabel('azimuth position')\n",
    "plt.grid()"
   ]
  },
  {
   "cell_type": "markdown",
   "metadata": {},
   "source": [
    "### The upper plot shows only a single point, because the `event_source` does not emit individual events\n",
    "See prove below"
   ]
  },
  {
   "cell_type": "code",
   "execution_count": 17,
   "metadata": {},
   "outputs": [
    {
     "data": {
      "text/plain": [
       "True"
      ]
     },
     "execution_count": 17,
     "metadata": {},
     "output_type": "execute_result"
    }
   ],
   "source": [
    "e0 = events[0]\n",
    "all([e0 is e for e in events])"
   ]
  },
  {
   "cell_type": "code",
   "execution_count": null,
   "metadata": {
    "collapsed": true
   },
   "outputs": [],
   "source": []
  }
 ],
 "metadata": {
  "kernelspec": {
   "display_name": "Python 3",
   "language": "python",
   "name": "python3"
  },
  "language_info": {
   "codemirror_mode": {
    "name": "ipython",
    "version": 3
   },
   "file_extension": ".py",
   "mimetype": "text/x-python",
   "name": "python",
   "nbconvert_exporter": "python",
   "pygments_lexer": "ipython3",
   "version": "3.6.3"
  }
 },
 "nbformat": 4,
 "nbformat_minor": 2
}
